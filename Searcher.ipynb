{
  "nbformat": 4,
  "nbformat_minor": 0,
  "metadata": {
    "colab": {
      "provenance": [],
      "authorship_tag": "ABX9TyMsUapDjbotXMHhXR2kZ6Qa",
      "include_colab_link": true
    },
    "kernelspec": {
      "name": "python3",
      "display_name": "Python 3"
    },
    "language_info": {
      "name": "python"
    }
  },
  "cells": [
    {
      "cell_type": "markdown",
      "metadata": {
        "id": "view-in-github",
        "colab_type": "text"
      },
      "source": [
        "<a href=\"https://colab.research.google.com/github/mgodfrey1294/Numpy-Tutorial-Youtube/blob/main/Searcher.ipynb\" target=\"_parent\"><img src=\"https://colab.research.google.com/assets/colab-badge.svg\" alt=\"Open In Colab\"/></a>"
      ]
    },
    {
      "cell_type": "code",
      "execution_count": 1,
      "metadata": {
        "id": "Bi6gDHihu08v"
      },
      "outputs": [],
      "source": [
        "import numpy as np"
      ]
    },
    {
      "cell_type": "code",
      "source": [
        "# Search\n",
        "np1 = np.array([1,2,3,4,5,6,7,8,9,10,3])\n",
        "\n",
        "x = np.where(np1 == 3)\n",
        "print(np1)\n",
        "print(x[0])\n",
        "print(np1[x[0]])"
      ],
      "metadata": {
        "colab": {
          "base_uri": "https://localhost:8080/"
        },
        "id": "mVm-AGIku6DM",
        "outputId": "2653d388-1974-4c30-f3bc-e177f7b1330f"
      },
      "execution_count": 5,
      "outputs": [
        {
          "output_type": "stream",
          "name": "stdout",
          "text": [
            "[ 1  2  3  4  5  6  7  8  9 10  3]\n",
            "[ 2 10]\n",
            "[3 3]\n"
          ]
        }
      ]
    },
    {
      "cell_type": "code",
      "source": [
        "# Return even items\n",
        "y = np.where(np1 % 2 == 0)\n",
        "print(np1)\n",
        "print(y[0])"
      ],
      "metadata": {
        "colab": {
          "base_uri": "https://localhost:8080/"
        },
        "id": "7PSjSFZyvSHb",
        "outputId": "d01f79ed-767c-49c0-8547-7570874d0e87"
      },
      "execution_count": 8,
      "outputs": [
        {
          "output_type": "stream",
          "name": "stdout",
          "text": [
            "[ 1  2  3  4  5  6  7  8  9 10  3]\n",
            "[1 3 5 7 9]\n"
          ]
        }
      ]
    },
    {
      "cell_type": "code",
      "source": [
        "# Return odd items\n",
        "z = np.where(np1 % 2 == 1)\n",
        "print(np1)\n",
        "print(z[0])"
      ],
      "metadata": {
        "colab": {
          "base_uri": "https://localhost:8080/"
        },
        "id": "gDMQTVclwWk3",
        "outputId": "1de76050-70d3-4b93-90bb-ff847c310054"
      },
      "execution_count": 9,
      "outputs": [
        {
          "output_type": "stream",
          "name": "stdout",
          "text": [
            "[ 1  2  3  4  5  6  7  8  9 10  3]\n",
            "[ 0  2  4  6  8 10]\n"
          ]
        }
      ]
    }
  ]
}