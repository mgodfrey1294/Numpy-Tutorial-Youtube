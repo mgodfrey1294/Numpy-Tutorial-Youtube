{
  "nbformat": 4,
  "nbformat_minor": 0,
  "metadata": {
    "colab": {
      "provenance": [],
      "authorship_tag": "ABX9TyN9jcF4HVS43Q9EwhPXrBO/",
      "include_colab_link": true
    },
    "kernelspec": {
      "name": "python3",
      "display_name": "Python 3"
    },
    "language_info": {
      "name": "python"
    }
  },
  "cells": [
    {
      "cell_type": "markdown",
      "metadata": {
        "id": "view-in-github",
        "colab_type": "text"
      },
      "source": [
        "<a href=\"https://colab.research.google.com/github/mgodfrey1294/Numpy-Tutorial-Youtube/blob/main/Numpy_Intro.ipynb\" target=\"_parent\"><img src=\"https://colab.research.google.com/assets/colab-badge.svg\" alt=\"Open In Colab\"/></a>"
      ]
    },
    {
      "cell_type": "code",
      "execution_count": null,
      "metadata": {
        "colab": {
          "base_uri": "https://localhost:8080/"
        },
        "id": "5zbewI9mK0_a",
        "outputId": "2723c60e-de52-4467-d9ad-8198e289182b"
      },
      "outputs": [
        {
          "output_type": "stream",
          "name": "stdout",
          "text": [
            "[1, 2, 3, 4, 5]\n",
            "1\n"
          ]
        }
      ],
      "source": [
        "# List demo\n",
        "list1 = [1,2,3,4,5]\n",
        "print(list1)\n",
        "print(list1[0])"
      ]
    },
    {
      "cell_type": "code",
      "source": [
        "# You can store multiple datatypes in lists\n",
        "list2 = [\"John Elder\", 41, list1, True]\n",
        "print(list2)"
      ],
      "metadata": {
        "colab": {
          "base_uri": "https://localhost:8080/"
        },
        "id": "D6FODGLdLOXF",
        "outputId": "b3dafb2a-443c-4c2e-daf2-6972757e1ca3"
      },
      "execution_count": null,
      "outputs": [
        {
          "output_type": "stream",
          "name": "stdout",
          "text": [
            "['John Elder', 41, [1, 2, 3, 4, 5], True]\n"
          ]
        }
      ]
    },
    {
      "cell_type": "code",
      "source": [
        "import numpy as np"
      ],
      "metadata": {
        "id": "EyLWEFySLcQu"
      },
      "execution_count": null,
      "outputs": []
    },
    {
      "cell_type": "code",
      "source": [
        "# Numpy - Numeric Python\n",
        "# ndarray = n-dimensional array\n",
        "\n",
        "np1 = np.array([0,1,2,3,4,5,6,7,8,9])\n",
        "print(np1)\n",
        "# See the shape of the array - tells us the number of elements in the array - think of the len function for lists.\n",
        "print(np1.shape)"
      ],
      "metadata": {
        "colab": {
          "base_uri": "https://localhost:8080/"
        },
        "id": "ruqfYTm0LvDB",
        "outputId": "1ef88490-a169-4187-9176-f1c4b1b377d8"
      },
      "execution_count": null,
      "outputs": [
        {
          "output_type": "stream",
          "name": "stdout",
          "text": [
            "[0 1 2 3 4 5 6 7 8 9]\n",
            "(10,)\n"
          ]
        }
      ]
    },
    {
      "cell_type": "code",
      "source": [
        "# np.arange(n) creates an array starting at 0 and goes up to (not including) n\n",
        "np2 = np.arange(10)\n",
        "print(np2)"
      ],
      "metadata": {
        "colab": {
          "base_uri": "https://localhost:8080/"
        },
        "id": "gE3chH5OMayK",
        "outputId": "554044e3-e915-4013-a458-302689ca1302"
      },
      "execution_count": null,
      "outputs": [
        {
          "output_type": "stream",
          "name": "stdout",
          "text": [
            "[0 1 2 3 4 5 6 7 8 9]\n"
          ]
        }
      ]
    },
    {
      "cell_type": "code",
      "source": [
        "# Step\n",
        "# np.arange(start, end, step)\n",
        "# Start at 0, end at 10 (does not include it), add 2 each time\n",
        "np3 = np.arange(0,10,2)\n",
        "print(np3)"
      ],
      "metadata": {
        "colab": {
          "base_uri": "https://localhost:8080/"
        },
        "id": "4ZVy_4_UMsxi",
        "outputId": "5d7f9d04-4630-4aff-aec3-56ced512a239"
      },
      "execution_count": null,
      "outputs": [
        {
          "output_type": "stream",
          "name": "stdout",
          "text": [
            "[0 2 4 6 8]\n"
          ]
        }
      ]
    },
    {
      "cell_type": "code",
      "source": [],
      "metadata": {
        "id": "Qgs6zS30N3H7"
      },
      "execution_count": null,
      "outputs": []
    }
  ]
}