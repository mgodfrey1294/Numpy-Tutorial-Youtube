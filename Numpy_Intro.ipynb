{
  "nbformat": 4,
  "nbformat_minor": 0,
  "metadata": {
    "colab": {
      "provenance": [],
      "authorship_tag": "ABX9TyPidoKCBAm2hH6NbuSHVn07",
      "include_colab_link": true
    },
    "kernelspec": {
      "name": "python3",
      "display_name": "Python 3"
    },
    "language_info": {
      "name": "python"
    }
  },
  "cells": [
    {
      "cell_type": "markdown",
      "metadata": {
        "id": "view-in-github",
        "colab_type": "text"
      },
      "source": [
        "<a href=\"https://colab.research.google.com/github/mgodfrey1294/Numpy-Tutorial-Youtube/blob/main/Numpy_Intro.ipynb\" target=\"_parent\"><img src=\"https://colab.research.google.com/assets/colab-badge.svg\" alt=\"Open In Colab\"/></a>"
      ]
    },
    {
      "cell_type": "code",
      "execution_count": 1,
      "metadata": {
        "colab": {
          "base_uri": "https://localhost:8080/"
        },
        "id": "5zbewI9mK0_a",
        "outputId": "335bbccc-499f-4751-8709-caaba7f52703"
      },
      "outputs": [
        {
          "output_type": "stream",
          "name": "stdout",
          "text": [
            "[1, 2, 3, 4, 5]\n",
            "1\n"
          ]
        }
      ],
      "source": [
        "# List demo\n",
        "list1 = [1,2,3,4,5]\n",
        "print(list1)\n",
        "print(list1[0])"
      ]
    },
    {
      "cell_type": "code",
      "source": [
        "# You can store multiple datatypes in lists\n",
        "list2 = [\"John Elder\", 41, list1, True]\n",
        "print(list2)"
      ],
      "metadata": {
        "colab": {
          "base_uri": "https://localhost:8080/"
        },
        "id": "D6FODGLdLOXF",
        "outputId": "34e3a137-c85f-4dc1-b8b0-9ad2064a783b"
      },
      "execution_count": 2,
      "outputs": [
        {
          "output_type": "stream",
          "name": "stdout",
          "text": [
            "['John Elder', 41, [1, 2, 3, 4, 5], True]\n"
          ]
        }
      ]
    },
    {
      "cell_type": "code",
      "source": [
        "import numpy as np"
      ],
      "metadata": {
        "id": "EyLWEFySLcQu"
      },
      "execution_count": 3,
      "outputs": []
    },
    {
      "cell_type": "code",
      "source": [
        "# Numpy - Numeric Python\n",
        "# ndarray = n-dimensional array\n",
        "\n",
        "np1 = np.array([0,1,2,3,4,5,6,7,8,9])\n",
        "print(np1)\n",
        "# See the shape of the array - tells us the number of elements in the array - think of the len function for lists.\n",
        "print(np1.shape)"
      ],
      "metadata": {
        "colab": {
          "base_uri": "https://localhost:8080/"
        },
        "id": "ruqfYTm0LvDB",
        "outputId": "1013bef9-b253-4ac7-da53-7cf772c48d86"
      },
      "execution_count": 4,
      "outputs": [
        {
          "output_type": "stream",
          "name": "stdout",
          "text": [
            "[0 1 2 3 4 5 6 7 8 9]\n",
            "(10,)\n"
          ]
        }
      ]
    },
    {
      "cell_type": "code",
      "source": [
        "# Range\n",
        "# np.arange(n) creates an array starting at 0 and goes up to (not including) n\n",
        "np2 = np.arange(10)\n",
        "print(np2)"
      ],
      "metadata": {
        "colab": {
          "base_uri": "https://localhost:8080/"
        },
        "id": "gE3chH5OMayK",
        "outputId": "807e2f81-5db0-4f03-85a8-a8eeb5441c72"
      },
      "execution_count": 7,
      "outputs": [
        {
          "output_type": "stream",
          "name": "stdout",
          "text": [
            "[0 1 2 3 4 5 6 7 8 9]\n"
          ]
        }
      ]
    },
    {
      "cell_type": "code",
      "source": [
        "# Step\n",
        "# np.arange(start, end, step)\n",
        "# Start at 0, end at 10 (does not include it), add 2 each time\n",
        "np3 = np.arange(0,10,2)\n",
        "print(np3)"
      ],
      "metadata": {
        "colab": {
          "base_uri": "https://localhost:8080/"
        },
        "id": "4ZVy_4_UMsxi",
        "outputId": "aad16be3-0189-4be1-fb9f-67832a4cd8f9"
      },
      "execution_count": 8,
      "outputs": [
        {
          "output_type": "stream",
          "name": "stdout",
          "text": [
            "[0 2 4 6 8]\n"
          ]
        }
      ]
    },
    {
      "cell_type": "code",
      "source": [
        "# Zeros\n",
        "np4 = np.zeros(10)\n",
        "print(np4)"
      ],
      "metadata": {
        "id": "Qgs6zS30N3H7",
        "colab": {
          "base_uri": "https://localhost:8080/"
        },
        "outputId": "032b8ef1-b976-425b-971d-e3c3920e2c44"
      },
      "execution_count": 9,
      "outputs": [
        {
          "output_type": "stream",
          "name": "stdout",
          "text": [
            "[0. 0. 0. 0. 0. 0. 0. 0. 0. 0.]\n"
          ]
        }
      ]
    },
    {
      "cell_type": "code",
      "source": [
        "# Multidimensional zeros\n",
        "np5 = np.zeros((2,10))\n",
        "print(np5)"
      ],
      "metadata": {
        "colab": {
          "base_uri": "https://localhost:8080/"
        },
        "id": "7q6pNrTGzC1R",
        "outputId": "514d8dd6-bc06-4793-9d78-50589522d679"
      },
      "execution_count": 10,
      "outputs": [
        {
          "output_type": "stream",
          "name": "stdout",
          "text": [
            "[[0. 0. 0. 0. 0. 0. 0. 0. 0. 0.]\n",
            " [0. 0. 0. 0. 0. 0. 0. 0. 0. 0.]]\n"
          ]
        }
      ]
    },
    {
      "cell_type": "code",
      "source": [
        "# Full\n",
        "np6 = np.full((10), 6)\n",
        "print(np6)"
      ],
      "metadata": {
        "colab": {
          "base_uri": "https://localhost:8080/"
        },
        "id": "jcZT_F62zOs5",
        "outputId": "fce8e4ce-efea-4809-9c4e-33ac16f68456"
      },
      "execution_count": 11,
      "outputs": [
        {
          "output_type": "stream",
          "name": "stdout",
          "text": [
            "[6 6 6 6 6 6 6 6 6 6]\n"
          ]
        }
      ]
    },
    {
      "cell_type": "code",
      "source": [
        "# Multidimensional Full\n",
        "np7 = np.full((2,10), 6)\n",
        "print(np7)"
      ],
      "metadata": {
        "colab": {
          "base_uri": "https://localhost:8080/"
        },
        "id": "XI5telZJzYOq",
        "outputId": "ab8ca475-b102-44f6-a7e8-5c78c1648b21"
      },
      "execution_count": 12,
      "outputs": [
        {
          "output_type": "stream",
          "name": "stdout",
          "text": [
            "[[6 6 6 6 6 6 6 6 6 6]\n",
            " [6 6 6 6 6 6 6 6 6 6]]\n"
          ]
        }
      ]
    },
    {
      "cell_type": "code",
      "source": [
        "# Convert Python lists to np\n",
        "my_list = [1,2,3,4,5]\n",
        "np8 = np.array(my_list)\n",
        "print(np8)"
      ],
      "metadata": {
        "colab": {
          "base_uri": "https://localhost:8080/"
        },
        "id": "gF_osmKhz4cQ",
        "outputId": "f3799428-ffd6-4791-fe01-a8abd83228d9"
      },
      "execution_count": 13,
      "outputs": [
        {
          "output_type": "stream",
          "name": "stdout",
          "text": [
            "[1 2 3 4 5]\n"
          ]
        }
      ]
    },
    {
      "cell_type": "code",
      "source": [
        "print(np8[0])"
      ],
      "metadata": {
        "colab": {
          "base_uri": "https://localhost:8080/"
        },
        "id": "J3tKuwpt0EIN",
        "outputId": "4f8e87d0-2d6e-46fd-9879-a267d294da35"
      },
      "execution_count": 14,
      "outputs": [
        {
          "output_type": "stream",
          "name": "stdout",
          "text": [
            "1\n"
          ]
        }
      ]
    }
  ]
}