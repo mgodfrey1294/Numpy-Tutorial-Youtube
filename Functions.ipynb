{
  "nbformat": 4,
  "nbformat_minor": 0,
  "metadata": {
    "colab": {
      "provenance": [],
      "authorship_tag": "ABX9TyNVyXHDBn4oFeXyHyG3tPNP",
      "include_colab_link": true
    },
    "kernelspec": {
      "name": "python3",
      "display_name": "Python 3"
    },
    "language_info": {
      "name": "python"
    }
  },
  "cells": [
    {
      "cell_type": "markdown",
      "metadata": {
        "id": "view-in-github",
        "colab_type": "text"
      },
      "source": [
        "<a href=\"https://colab.research.google.com/github/mgodfrey1294/Numpy-Tutorial-Youtube/blob/main/Functions.ipynb\" target=\"_parent\"><img src=\"https://colab.research.google.com/assets/colab-badge.svg\" alt=\"Open In Colab\"/></a>"
      ]
    },
    {
      "cell_type": "code",
      "execution_count": 2,
      "metadata": {
        "id": "AWPcgEAc8Poh"
      },
      "outputs": [],
      "source": [
        "import numpy as np"
      ]
    },
    {
      "cell_type": "code",
      "source": [
        "# Numpy Universal Function\n",
        "np1 = np.array([-3,-2,-1,0,1,2,3,4,5,6,7,8,9])\n",
        "print(np1)"
      ],
      "metadata": {
        "colab": {
          "base_uri": "https://localhost:8080/"
        },
        "id": "TOOq_bsF8VEI",
        "outputId": "797a488c-d36e-4443-c2d2-7c353aa43146"
      },
      "execution_count": 7,
      "outputs": [
        {
          "output_type": "stream",
          "name": "stdout",
          "text": [
            "[-3 -2 -1  0  1  2  3  4  5  6  7  8  9]\n"
          ]
        }
      ]
    },
    {
      "cell_type": "code",
      "source": [
        "# Square root of each element\n",
        "print(np.sqrt(np1))"
      ],
      "metadata": {
        "colab": {
          "base_uri": "https://localhost:8080/"
        },
        "id": "ulJ1sHL38htl",
        "outputId": "b133d327-411d-4ac6-da84-6551ecd21fe1"
      },
      "execution_count": 8,
      "outputs": [
        {
          "output_type": "stream",
          "name": "stdout",
          "text": [
            "[       nan        nan        nan 0.         1.         1.41421356\n",
            " 1.73205081 2.         2.23606798 2.44948974 2.64575131 2.82842712\n",
            " 3.        ]\n"
          ]
        },
        {
          "output_type": "stream",
          "name": "stderr",
          "text": [
            "<ipython-input-8-15bf2df1ab87>:2: RuntimeWarning: invalid value encountered in sqrt\n",
            "  print(np.sqrt(np1))\n"
          ]
        }
      ]
    },
    {
      "cell_type": "code",
      "source": [
        "# Absolute Value\n",
        "print(np.absolute(np1))"
      ],
      "metadata": {
        "colab": {
          "base_uri": "https://localhost:8080/"
        },
        "id": "0D4BrNPD8wm3",
        "outputId": "d3020d6c-226e-438c-e510-6f91d4eb473c"
      },
      "execution_count": 9,
      "outputs": [
        {
          "output_type": "stream",
          "name": "stdout",
          "text": [
            "[3 2 1 0 1 2 3 4 5 6 7 8 9]\n"
          ]
        }
      ]
    },
    {
      "cell_type": "code",
      "source": [
        "# Exponents\n",
        "print(np.exp(np1))"
      ],
      "metadata": {
        "colab": {
          "base_uri": "https://localhost:8080/"
        },
        "id": "EUwPjnYU87HE",
        "outputId": "2cd7a6c9-d089-4743-b1e2-1f04dbea740f"
      },
      "execution_count": 10,
      "outputs": [
        {
          "output_type": "stream",
          "name": "stdout",
          "text": [
            "[4.97870684e-02 1.35335283e-01 3.67879441e-01 1.00000000e+00\n",
            " 2.71828183e+00 7.38905610e+00 2.00855369e+01 5.45981500e+01\n",
            " 1.48413159e+02 4.03428793e+02 1.09663316e+03 2.98095799e+03\n",
            " 8.10308393e+03]\n"
          ]
        }
      ]
    },
    {
      "cell_type": "code",
      "source": [
        "# Min/Max\n",
        "print(np.max(np1))\n",
        "print(np.min(np1))"
      ],
      "metadata": {
        "colab": {
          "base_uri": "https://localhost:8080/"
        },
        "id": "4WoGpvI09HbK",
        "outputId": "1a8ac128-3876-4aa2-d5ec-2b0b8ca5418b"
      },
      "execution_count": 11,
      "outputs": [
        {
          "output_type": "stream",
          "name": "stdout",
          "text": [
            "9\n",
            "-3\n"
          ]
        }
      ]
    },
    {
      "cell_type": "code",
      "source": [
        "# Sign positive or negative\n",
        "print(np.sign(np1))"
      ],
      "metadata": {
        "colab": {
          "base_uri": "https://localhost:8080/"
        },
        "id": "1XXrA-y-9PMv",
        "outputId": "6f78595a-c751-482c-e741-fad2af886a9d"
      },
      "execution_count": 12,
      "outputs": [
        {
          "output_type": "stream",
          "name": "stdout",
          "text": [
            "[-1 -1 -1  0  1  1  1  1  1  1  1  1  1]\n"
          ]
        }
      ]
    },
    {
      "cell_type": "code",
      "source": [
        "# Trig sin cos log\n",
        "print(np.sin(np1))\n",
        "print(np.log(np1))"
      ],
      "metadata": {
        "colab": {
          "base_uri": "https://localhost:8080/"
        },
        "id": "RV9VzF9o9Ue-",
        "outputId": "4a2de91a-7408-4d50-bba9-f2f3c10ca371"
      },
      "execution_count": 14,
      "outputs": [
        {
          "output_type": "stream",
          "name": "stdout",
          "text": [
            "[-0.14112001 -0.90929743 -0.84147098  0.          0.84147098  0.90929743\n",
            "  0.14112001 -0.7568025  -0.95892427 -0.2794155   0.6569866   0.98935825\n",
            "  0.41211849]\n",
            "[       nan        nan        nan       -inf 0.         0.69314718\n",
            " 1.09861229 1.38629436 1.60943791 1.79175947 1.94591015 2.07944154\n",
            " 2.19722458]\n"
          ]
        },
        {
          "output_type": "stream",
          "name": "stderr",
          "text": [
            "<ipython-input-14-aa94c97f98b7>:3: RuntimeWarning: divide by zero encountered in log\n",
            "  print(np.log(np1))\n",
            "<ipython-input-14-aa94c97f98b7>:3: RuntimeWarning: invalid value encountered in log\n",
            "  print(np.log(np1))\n"
          ]
        }
      ]
    }
  ]
}