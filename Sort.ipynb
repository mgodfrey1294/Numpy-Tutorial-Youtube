{
  "nbformat": 4,
  "nbformat_minor": 0,
  "metadata": {
    "colab": {
      "provenance": [],
      "authorship_tag": "ABX9TyMDiAU+NWwyvCEYFqo6Q91e",
      "include_colab_link": true
    },
    "kernelspec": {
      "name": "python3",
      "display_name": "Python 3"
    },
    "language_info": {
      "name": "python"
    }
  },
  "cells": [
    {
      "cell_type": "markdown",
      "metadata": {
        "id": "view-in-github",
        "colab_type": "text"
      },
      "source": [
        "<a href=\"https://colab.research.google.com/github/mgodfrey1294/Numpy-Tutorial-Youtube/blob/main/Sort.ipynb\" target=\"_parent\"><img src=\"https://colab.research.google.com/assets/colab-badge.svg\" alt=\"Open In Colab\"/></a>"
      ]
    },
    {
      "cell_type": "code",
      "execution_count": 3,
      "metadata": {
        "id": "zlLeyvaEvRRN"
      },
      "outputs": [],
      "source": [
        "import numpy as np"
      ]
    },
    {
      "cell_type": "code",
      "source": [
        "# np.sort() Numerical\n",
        "np1 = np.array([6,7,4,9,0,2,1])\n",
        "print(np1)\n",
        "print(np.sort(np1))"
      ],
      "metadata": {
        "colab": {
          "base_uri": "https://localhost:8080/"
        },
        "id": "H7yCQxaKvUQA",
        "outputId": "69ca4dd9-86f0-4e21-e39b-818abf20d2bd"
      },
      "execution_count": 4,
      "outputs": [
        {
          "output_type": "stream",
          "name": "stdout",
          "text": [
            "[6 7 4 9 0 2 1]\n",
            "[0 1 2 4 6 7 9]\n"
          ]
        }
      ]
    },
    {
      "cell_type": "code",
      "source": [
        "# Alphabetical\n",
        "np2 = np.array([\"John\", \"Tina\", \"Aaron\", \"Zed\"])\n",
        "print(np2)\n",
        "print(np.sort(np2))"
      ],
      "metadata": {
        "colab": {
          "base_uri": "https://localhost:8080/"
        },
        "id": "WSW7mDBPvyFF",
        "outputId": "46b3b9f4-91ae-47a4-a49c-e9ecbc968cd2"
      },
      "execution_count": 6,
      "outputs": [
        {
          "output_type": "stream",
          "name": "stdout",
          "text": [
            "['John' 'Tina' 'Aaron' 'Zed']\n",
            "['Aaron' 'John' 'Tina' 'Zed']\n"
          ]
        }
      ]
    },
    {
      "cell_type": "code",
      "source": [
        "# Booleans T/F\n",
        "np3 = np.array([True, False, False, True])\n",
        "print(np3)\n",
        "print(np.sort(np3))"
      ],
      "metadata": {
        "colab": {
          "base_uri": "https://localhost:8080/"
        },
        "id": "usynXw6HwIIE",
        "outputId": "ff8af163-f33b-4921-ac0b-1fe34941cc1f"
      },
      "execution_count": 8,
      "outputs": [
        {
          "output_type": "stream",
          "name": "stdout",
          "text": [
            "[ True False False  True]\n",
            "[False False  True  True]\n"
          ]
        }
      ]
    },
    {
      "cell_type": "code",
      "source": [
        "# Return a copy not change the original\n",
        "np4 = np.array([6,7,4,9,0,2,1])\n",
        "print(np4)\n",
        "print(np.sort(np4))\n",
        "print(np4)"
      ],
      "metadata": {
        "colab": {
          "base_uri": "https://localhost:8080/"
        },
        "id": "J0LorsRfwaTp",
        "outputId": "e0781ccd-f297-4a7e-9c48-965ece944be9"
      },
      "execution_count": 10,
      "outputs": [
        {
          "output_type": "stream",
          "name": "stdout",
          "text": [
            "[6 7 4 9 0 2 1]\n",
            "[0 1 2 4 6 7 9]\n",
            "[6 7 4 9 0 2 1]\n"
          ]
        }
      ]
    },
    {
      "cell_type": "code",
      "source": [
        "np5 = np.array([[6,7,1,9],[8,3,5,0]])\n",
        "print(np5)\n",
        "print(np.sort(np5))"
      ],
      "metadata": {
        "colab": {
          "base_uri": "https://localhost:8080/"
        },
        "id": "Rm8qVfZNw3vh",
        "outputId": "0e28456a-9739-4ae0-b0c7-3f2acef2e2ff"
      },
      "execution_count": 12,
      "outputs": [
        {
          "output_type": "stream",
          "name": "stdout",
          "text": [
            "[[6 7 1 9]\n",
            " [8 3 5 0]]\n",
            "[[1 6 7 9]\n",
            " [0 3 5 8]]\n"
          ]
        }
      ]
    }
  ]
}