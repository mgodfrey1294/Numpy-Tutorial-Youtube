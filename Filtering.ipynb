{
  "nbformat": 4,
  "nbformat_minor": 0,
  "metadata": {
    "colab": {
      "provenance": [],
      "authorship_tag": "ABX9TyPAaR6L5o7D0HUyq1oLecDv",
      "include_colab_link": true
    },
    "kernelspec": {
      "name": "python3",
      "display_name": "Python 3"
    },
    "language_info": {
      "name": "python"
    }
  },
  "cells": [
    {
      "cell_type": "markdown",
      "metadata": {
        "id": "view-in-github",
        "colab_type": "text"
      },
      "source": [
        "<a href=\"https://colab.research.google.com/github/mgodfrey1294/Numpy-Tutorial-Youtube/blob/main/Filtering.ipynb\" target=\"_parent\"><img src=\"https://colab.research.google.com/assets/colab-badge.svg\" alt=\"Open In Colab\"/></a>"
      ]
    },
    {
      "cell_type": "code",
      "execution_count": 1,
      "metadata": {
        "id": "jUypDwLnxH7i"
      },
      "outputs": [],
      "source": [
        "import numpy as np"
      ]
    },
    {
      "cell_type": "code",
      "source": [
        "# Filtering Numpy Arrays with Boolean Index Lists\n",
        "np1 = np.array([1,2,3,4,5,6,7,8,9,10])\n",
        "\n",
        "x = [True, True, False, False, False, False, False, False, False, False]\n",
        "\n",
        "print(np1)\n",
        "print(np1[x])"
      ],
      "metadata": {
        "colab": {
          "base_uri": "https://localhost:8080/"
        },
        "id": "FeC_6_fqxMQM",
        "outputId": "1fb8c91e-0333-4fb5-e947-860084290cf9"
      },
      "execution_count": 2,
      "outputs": [
        {
          "output_type": "stream",
          "name": "stdout",
          "text": [
            "[ 1  2  3  4  5  6  7  8  9 10]\n",
            "[1 2]\n"
          ]
        }
      ]
    },
    {
      "cell_type": "code",
      "source": [
        "filtered = []\n",
        "for thing in np1:\n",
        "  if thing % 2 == 0:\n",
        "    filtered.append(True)\n",
        "  else:\n",
        "    filtered.append(False)\n",
        "\n",
        "print(np1)\n",
        "print(filtered)\n",
        "print(np1[filtered])"
      ],
      "metadata": {
        "colab": {
          "base_uri": "https://localhost:8080/"
        },
        "id": "DM-8QJWcxyex",
        "outputId": "1c269e01-a1a8-4db7-c749-5680fbad47c9"
      },
      "execution_count": 5,
      "outputs": [
        {
          "output_type": "stream",
          "name": "stdout",
          "text": [
            "[ 1  2  3  4  5  6  7  8  9 10]\n",
            "[False, False, False, False, False, True, True, True, True, True]\n",
            "[ 6  7  8  9 10]\n"
          ]
        }
      ]
    },
    {
      "cell_type": "code",
      "source": [
        "# Shortcut!\n",
        "filtered = np1 % 2 == 0\n",
        "print(np1)\n",
        "print(filtered)\n",
        "print(np1[filtered])"
      ],
      "metadata": {
        "colab": {
          "base_uri": "https://localhost:8080/"
        },
        "id": "S9nkTLaVyYNW",
        "outputId": "7404ef1f-95ef-4058-c246-09efd804aeb9"
      },
      "execution_count": 6,
      "outputs": [
        {
          "output_type": "stream",
          "name": "stdout",
          "text": [
            "[ 1  2  3  4  5  6  7  8  9 10]\n",
            "[False  True False  True False  True False  True False  True]\n",
            "[ 2  4  6  8 10]\n"
          ]
        }
      ]
    }
  ]
}