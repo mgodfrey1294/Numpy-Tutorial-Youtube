{
  "nbformat": 4,
  "nbformat_minor": 0,
  "metadata": {
    "colab": {
      "provenance": [],
      "authorship_tag": "ABX9TyNuj8gkjRuC8aspFEBpbqP0",
      "include_colab_link": true
    },
    "kernelspec": {
      "name": "python3",
      "display_name": "Python 3"
    },
    "language_info": {
      "name": "python"
    }
  },
  "cells": [
    {
      "cell_type": "markdown",
      "metadata": {
        "id": "view-in-github",
        "colab_type": "text"
      },
      "source": [
        "<a href=\"https://colab.research.google.com/github/mgodfrey1294/Numpy-Tutorial-Youtube/blob/main/Slice.ipynb\" target=\"_parent\"><img src=\"https://colab.research.google.com/assets/colab-badge.svg\" alt=\"Open In Colab\"/></a>"
      ]
    },
    {
      "cell_type": "code",
      "execution_count": 11,
      "metadata": {
        "id": "VSqZXxjH1GFA"
      },
      "outputs": [],
      "source": [
        "import numpy as np"
      ]
    },
    {
      "cell_type": "code",
      "source": [
        "# Slicing Numpy Arrays\n",
        "np1 = np.array([1,2,3,4,5,6,7,8,9])\n",
        "\n",
        "# Return 2,3,4,5\n",
        "print(np1[1:5])"
      ],
      "metadata": {
        "colab": {
          "base_uri": "https://localhost:8080/"
        },
        "id": "NLi85Y2V2lFZ",
        "outputId": "982b00f1-3896-4580-fd6a-f5c3fa86c2aa"
      },
      "execution_count": 12,
      "outputs": [
        {
          "output_type": "stream",
          "name": "stdout",
          "text": [
            "[2 3 4 5]\n"
          ]
        }
      ]
    },
    {
      "cell_type": "code",
      "source": [
        "# Return from something until the end of the array?\n",
        "# Return 4-9\n",
        "print(np1[3:])"
      ],
      "metadata": {
        "colab": {
          "base_uri": "https://localhost:8080/"
        },
        "id": "YCVB0v9q4W8c",
        "outputId": "af750ccb-809b-48b7-e73a-a8a7b02d2556"
      },
      "execution_count": 13,
      "outputs": [
        {
          "output_type": "stream",
          "name": "stdout",
          "text": [
            "[4 5 6 7 8 9]\n"
          ]
        }
      ]
    },
    {
      "cell_type": "code",
      "source": [
        "# Return Negative Slices\n",
        "# 7, 8\n",
        "print(np1[-3:-1])"
      ],
      "metadata": {
        "colab": {
          "base_uri": "https://localhost:8080/"
        },
        "id": "6T52elVU4us4",
        "outputId": "767497d9-9dee-476c-eb6a-2cccfed91cdd"
      },
      "execution_count": 14,
      "outputs": [
        {
          "output_type": "stream",
          "name": "stdout",
          "text": [
            "[7 8]\n"
          ]
        }
      ]
    },
    {
      "cell_type": "code",
      "source": [
        "# Steps\n",
        "print(np1[1:5]) # 2-5\n",
        "print(np1[1:5:2]) # 2-5 in steps of 2"
      ],
      "metadata": {
        "colab": {
          "base_uri": "https://localhost:8080/"
        },
        "id": "rF5NRuD05EkN",
        "outputId": "3ee704f4-13dd-4c2e-c445-9999334246b2"
      },
      "execution_count": 15,
      "outputs": [
        {
          "output_type": "stream",
          "name": "stdout",
          "text": [
            "[2 3 4 5]\n",
            "[2 4]\n"
          ]
        }
      ]
    },
    {
      "cell_type": "code",
      "source": [
        "# Steps on the entire array\n",
        "print(np1[::2])"
      ],
      "metadata": {
        "colab": {
          "base_uri": "https://localhost:8080/"
        },
        "id": "SdHma2Bz5VUo",
        "outputId": "f14bd14e-1dfe-4f36-b97d-e573fb1ed216"
      },
      "execution_count": 16,
      "outputs": [
        {
          "output_type": "stream",
          "name": "stdout",
          "text": [
            "[1 3 5 7 9]\n"
          ]
        }
      ]
    },
    {
      "cell_type": "code",
      "source": [
        "print(np1[::3])"
      ],
      "metadata": {
        "colab": {
          "base_uri": "https://localhost:8080/"
        },
        "id": "Je41Yr0X5h77",
        "outputId": "3eeb9cab-b07f-47c2-ce38-2f5959a4ce6f"
      },
      "execution_count": 17,
      "outputs": [
        {
          "output_type": "stream",
          "name": "stdout",
          "text": [
            "[1 4 7]\n"
          ]
        }
      ]
    },
    {
      "cell_type": "code",
      "source": [
        "# Slice a 2-d array\n",
        "np2 = np.array([[1,2,3,4,5], [6,7,8,9,10]])\n",
        "# [[1,2,3,4,5],\n",
        "#  [6,7,8,9,10]]\n",
        "# Pull out a single item\n",
        "print(np2[1,2])"
      ],
      "metadata": {
        "colab": {
          "base_uri": "https://localhost:8080/"
        },
        "id": "_hGccjFa5sc2",
        "outputId": "dc97cf46-054a-4c46-8f6d-293bc9c4d894"
      },
      "execution_count": 18,
      "outputs": [
        {
          "output_type": "stream",
          "name": "stdout",
          "text": [
            "8\n"
          ]
        }
      ]
    },
    {
      "cell_type": "code",
      "source": [
        "# Slice a 2-d array 2,3\n",
        "print(np2[0:1, 1:3])"
      ],
      "metadata": {
        "colab": {
          "base_uri": "https://localhost:8080/"
        },
        "id": "6tWkCFCN6b--",
        "outputId": "357072c2-29ae-4ecd-c3b3-8eee732a681a"
      },
      "execution_count": 19,
      "outputs": [
        {
          "output_type": "stream",
          "name": "stdout",
          "text": [
            "[[2 3]]\n"
          ]
        }
      ]
    },
    {
      "cell_type": "code",
      "source": [
        "# Slice from both rows 2,3 and 7,8\n",
        "print(np2[0:2, 1:3])"
      ],
      "metadata": {
        "colab": {
          "base_uri": "https://localhost:8080/"
        },
        "id": "iPlKREqj6zco",
        "outputId": "dee02e91-ec65-4c09-fbdc-acc1e12fc11d"
      },
      "execution_count": 20,
      "outputs": [
        {
          "output_type": "stream",
          "name": "stdout",
          "text": [
            "[[2 3]\n",
            " [7 8]]\n"
          ]
        }
      ]
    }
  ]
}