{
  "nbformat": 4,
  "nbformat_minor": 0,
  "metadata": {
    "colab": {
      "provenance": [],
      "authorship_tag": "ABX9TyP+/KV8Sq69ZyUcSoVuNuxf",
      "include_colab_link": true
    },
    "kernelspec": {
      "name": "python3",
      "display_name": "Python 3"
    },
    "language_info": {
      "name": "python"
    }
  },
  "cells": [
    {
      "cell_type": "markdown",
      "metadata": {
        "id": "view-in-github",
        "colab_type": "text"
      },
      "source": [
        "<a href=\"https://colab.research.google.com/github/mgodfrey1294/Numpy-Tutorial-Youtube/blob/main/CopyView.ipynb\" target=\"_parent\"><img src=\"https://colab.research.google.com/assets/colab-badge.svg\" alt=\"Open In Colab\"/></a>"
      ]
    },
    {
      "cell_type": "code",
      "execution_count": 1,
      "metadata": {
        "id": "1KTR48VKoxtt"
      },
      "outputs": [],
      "source": [
        "import numpy as np"
      ]
    },
    {
      "cell_type": "code",
      "source": [
        "# Copy Vs. View\n",
        "np1 = np.array([0,1,2,3,4,5])"
      ],
      "metadata": {
        "id": "CyWhdknHo2du"
      },
      "execution_count": 2,
      "outputs": []
    },
    {
      "cell_type": "code",
      "source": [
        "# Create a view\n",
        "np2 = np1.view()"
      ],
      "metadata": {
        "id": "GRiT6PJfpCfH"
      },
      "execution_count": 3,
      "outputs": []
    },
    {
      "cell_type": "code",
      "source": [
        "print(f'Original NP1 {np1}')\n",
        "print(f'Original NP2 {np2}')"
      ],
      "metadata": {
        "colab": {
          "base_uri": "https://localhost:8080/"
        },
        "id": "jpTLzjThpGwN",
        "outputId": "adda1b3c-6380-4afb-9484-a7b443f4b0f2"
      },
      "execution_count": 4,
      "outputs": [
        {
          "output_type": "stream",
          "name": "stdout",
          "text": [
            "Original NP1 [0 1 2 3 4 5]\n",
            "Original NP2 [0 1 2 3 4 5]\n"
          ]
        }
      ]
    },
    {
      "cell_type": "code",
      "source": [
        "np1[0] = 41"
      ],
      "metadata": {
        "id": "r45p6zvhpUyJ"
      },
      "execution_count": 5,
      "outputs": []
    },
    {
      "cell_type": "code",
      "source": [
        "print(f'Changed NP1 {np1}')\n",
        "print(f'Original NP2 {np2}')"
      ],
      "metadata": {
        "colab": {
          "base_uri": "https://localhost:8080/"
        },
        "id": "HK4Idgampcqw",
        "outputId": "f2226e53-802f-4318-cbce-cad17836025b"
      },
      "execution_count": 6,
      "outputs": [
        {
          "output_type": "stream",
          "name": "stdout",
          "text": [
            "Changed NP1 [41  1  2  3  4  5]\n",
            "Original NP2 [41  1  2  3  4  5]\n"
          ]
        }
      ]
    },
    {
      "cell_type": "code",
      "source": [
        "# Create a Copy\n",
        "np1 = np.array([0,1,2,3,4,5])\n",
        "np2 = np1.copy()\n",
        "\n",
        "print(f'Original NP1 {np1}')\n",
        "print(f'Original NP2 {np2}')\n",
        "\n",
        "np1[0] = 41\n",
        "\n",
        "print(f'Changed NP1 {np1}')\n",
        "print(f'Original NP2 {np2}')"
      ],
      "metadata": {
        "colab": {
          "base_uri": "https://localhost:8080/"
        },
        "id": "P4bkeweJpjMQ",
        "outputId": "f318b39c-a3ad-4aa3-cc30-8eba0073dc45"
      },
      "execution_count": 7,
      "outputs": [
        {
          "output_type": "stream",
          "name": "stdout",
          "text": [
            "Original NP1 [0 1 2 3 4 5]\n",
            "Original NP2 [0 1 2 3 4 5]\n",
            "Changed NP1 [41  1  2  3  4  5]\n",
            "Original NP2 [0 1 2 3 4 5]\n"
          ]
        }
      ]
    },
    {
      "cell_type": "code",
      "source": [
        "np1 = np.array([0,1,2,3,4,5])\n",
        "np2 = np1.copy()\n",
        "\n",
        "print(f'Original NP1 {np1}')\n",
        "print(f'Original NP2 {np2}')\n",
        "\n",
        "np2[0] = 41\n",
        "\n",
        "print(f'Changed NP1 {np1}')\n",
        "print(f'Original NP2 {np2}')"
      ],
      "metadata": {
        "colab": {
          "base_uri": "https://localhost:8080/"
        },
        "id": "kNpZ-7aTqDxa",
        "outputId": "f53c3be3-fc93-460e-a546-e3d2f0198d12"
      },
      "execution_count": 8,
      "outputs": [
        {
          "output_type": "stream",
          "name": "stdout",
          "text": [
            "Original NP1 [0 1 2 3 4 5]\n",
            "Original NP2 [0 1 2 3 4 5]\n",
            "Changed NP1 [0 1 2 3 4 5]\n",
            "Original NP2 [41  1  2  3  4  5]\n"
          ]
        }
      ]
    },
    {
      "cell_type": "code",
      "source": [
        "np1 = np.array([0,1,2,3,4,5])\n",
        "np2 = np1.view()\n",
        "\n",
        "print(f'Original NP1 {np1}')\n",
        "print(f'Original NP2 {np2}')\n",
        "\n",
        "np2[0] = 41\n",
        "\n",
        "print(f'Changed NP1 {np1}')\n",
        "print(f'Original NP2 {np2}')"
      ],
      "metadata": {
        "colab": {
          "base_uri": "https://localhost:8080/"
        },
        "id": "lGSjyMqtqVn4",
        "outputId": "df717270-c2f3-41f6-ad9a-dee436faf39a"
      },
      "execution_count": 9,
      "outputs": [
        {
          "output_type": "stream",
          "name": "stdout",
          "text": [
            "Original NP1 [0 1 2 3 4 5]\n",
            "Original NP2 [0 1 2 3 4 5]\n",
            "Changed NP1 [41  1  2  3  4  5]\n",
            "Original NP2 [41  1  2  3  4  5]\n"
          ]
        }
      ]
    }
  ]
}