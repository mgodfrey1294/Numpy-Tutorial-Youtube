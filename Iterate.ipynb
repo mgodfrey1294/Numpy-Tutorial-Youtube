{
  "nbformat": 4,
  "nbformat_minor": 0,
  "metadata": {
    "colab": {
      "provenance": [],
      "authorship_tag": "ABX9TyNMQiEyv6SmQPdfOugdPmBj",
      "include_colab_link": true
    },
    "kernelspec": {
      "name": "python3",
      "display_name": "Python 3"
    },
    "language_info": {
      "name": "python"
    }
  },
  "cells": [
    {
      "cell_type": "markdown",
      "metadata": {
        "id": "view-in-github",
        "colab_type": "text"
      },
      "source": [
        "<a href=\"https://colab.research.google.com/github/mgodfrey1294/Numpy-Tutorial-Youtube/blob/main/Iterate.ipynb\" target=\"_parent\"><img src=\"https://colab.research.google.com/assets/colab-badge.svg\" alt=\"Open In Colab\"/></a>"
      ]
    },
    {
      "cell_type": "code",
      "execution_count": 1,
      "metadata": {
        "id": "bHCh_2Qmcd8j"
      },
      "outputs": [],
      "source": [
        "import numpy as np"
      ]
    },
    {
      "cell_type": "code",
      "source": [
        "# 1-d\n",
        "np1 = np.array([1,2,3,4,5,6,7,8,9,10])\n",
        "for x in np1:\n",
        "  print(x)"
      ],
      "metadata": {
        "colab": {
          "base_uri": "https://localhost:8080/"
        },
        "id": "85hcVcfbciKf",
        "outputId": "cfaddc93-efbc-49a4-d343-fe8d94607612"
      },
      "execution_count": 2,
      "outputs": [
        {
          "output_type": "stream",
          "name": "stdout",
          "text": [
            "1\n",
            "2\n",
            "3\n",
            "4\n",
            "5\n",
            "6\n",
            "7\n",
            "8\n",
            "9\n",
            "10\n"
          ]
        }
      ]
    },
    {
      "cell_type": "code",
      "source": [
        "# 2-d Array\n",
        "np2 = np.array([[1,2,3,4,5],[6,7,8,9,10]])\n",
        "for x in np2:\n",
        "  # Print rows\n",
        "  print(x)"
      ],
      "metadata": {
        "colab": {
          "base_uri": "https://localhost:8080/"
        },
        "id": "FH0DyU_TdKrR",
        "outputId": "3d585b36-79db-4728-9827-e26679c777d2"
      },
      "execution_count": 5,
      "outputs": [
        {
          "output_type": "stream",
          "name": "stdout",
          "text": [
            "[1 2 3 4 5]\n",
            "[ 6  7  8  9 10]\n"
          ]
        }
      ]
    },
    {
      "cell_type": "code",
      "source": [
        "for x in np2:\n",
        "  for y in x:\n",
        "    print(y)"
      ],
      "metadata": {
        "colab": {
          "base_uri": "https://localhost:8080/"
        },
        "id": "qyuGdNcIdaWW",
        "outputId": "8dc83a09-81a5-45fb-fef8-ae96647accc6"
      },
      "execution_count": 6,
      "outputs": [
        {
          "output_type": "stream",
          "name": "stdout",
          "text": [
            "1\n",
            "2\n",
            "3\n",
            "4\n",
            "5\n",
            "6\n",
            "7\n",
            "8\n",
            "9\n",
            "10\n"
          ]
        }
      ]
    },
    {
      "cell_type": "code",
      "source": [
        "# 3-D Array\n",
        "np3 = np.array([[[1,2,3],[4,5,6]], [[7,8,9],[10,11,12]]])\n",
        "for x in np3:\n",
        "  print(x)"
      ],
      "metadata": {
        "colab": {
          "base_uri": "https://localhost:8080/"
        },
        "id": "gw_k4a93dvva",
        "outputId": "52682d5a-5b80-4c2b-a482-d6668231671f"
      },
      "execution_count": 11,
      "outputs": [
        {
          "output_type": "stream",
          "name": "stdout",
          "text": [
            "[[1 2 3]\n",
            " [4 5 6]]\n",
            "[[ 7  8  9]\n",
            " [10 11 12]]\n"
          ]
        }
      ]
    },
    {
      "cell_type": "code",
      "source": [
        "for x in np3:\n",
        "  for y in x:\n",
        "    print(y)"
      ],
      "metadata": {
        "colab": {
          "base_uri": "https://localhost:8080/"
        },
        "id": "KCB1c-ozeRqC",
        "outputId": "3f8916ed-8793-4938-cea7-483321d93fdc"
      },
      "execution_count": 12,
      "outputs": [
        {
          "output_type": "stream",
          "name": "stdout",
          "text": [
            "[1 2 3]\n",
            "[4 5 6]\n",
            "[7 8 9]\n",
            "[10 11 12]\n"
          ]
        }
      ]
    },
    {
      "cell_type": "code",
      "source": [
        "for x in np3:\n",
        "  for y in x:\n",
        "    for z in y:\n",
        "      print(z)"
      ],
      "metadata": {
        "colab": {
          "base_uri": "https://localhost:8080/"
        },
        "id": "aJCHgbL2efHG",
        "outputId": "20bece4a-cfa9-44cb-bf11-60442fe3f1ac"
      },
      "execution_count": 13,
      "outputs": [
        {
          "output_type": "stream",
          "name": "stdout",
          "text": [
            "1\n",
            "2\n",
            "3\n",
            "4\n",
            "5\n",
            "6\n",
            "7\n",
            "8\n",
            "9\n",
            "10\n",
            "11\n",
            "12\n"
          ]
        }
      ]
    },
    {
      "cell_type": "code",
      "source": [
        "# Use np.nditer\n",
        "for x in np.nditer(np3):\n",
        "  print(x)"
      ],
      "metadata": {
        "colab": {
          "base_uri": "https://localhost:8080/"
        },
        "id": "4fxCowwWelya",
        "outputId": "81ed1c53-2b67-4fd2-bca1-e19e4106f7f5"
      },
      "execution_count": 14,
      "outputs": [
        {
          "output_type": "stream",
          "name": "stdout",
          "text": [
            "1\n",
            "2\n",
            "3\n",
            "4\n",
            "5\n",
            "6\n",
            "7\n",
            "8\n",
            "9\n",
            "10\n",
            "11\n",
            "12\n"
          ]
        }
      ]
    },
    {
      "cell_type": "code",
      "source": [
        "for x in np.nditer(np1):\n",
        "  print(x)"
      ],
      "metadata": {
        "colab": {
          "base_uri": "https://localhost:8080/"
        },
        "id": "I-KLER1Pe0on",
        "outputId": "ea2b325e-b8c2-42b0-9445-466e5c8f970d"
      },
      "execution_count": 16,
      "outputs": [
        {
          "output_type": "stream",
          "name": "stdout",
          "text": [
            "1\n",
            "2\n",
            "3\n",
            "4\n",
            "5\n",
            "6\n",
            "7\n",
            "8\n",
            "9\n",
            "10\n"
          ]
        }
      ]
    }
  ]
}