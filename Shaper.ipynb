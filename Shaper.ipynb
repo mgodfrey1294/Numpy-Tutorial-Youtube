{
  "nbformat": 4,
  "nbformat_minor": 0,
  "metadata": {
    "colab": {
      "provenance": [],
      "authorship_tag": "ABX9TyMEzQzhMnUnnQKX7ocR8H/9",
      "include_colab_link": true
    },
    "kernelspec": {
      "name": "python3",
      "display_name": "Python 3"
    },
    "language_info": {
      "name": "python"
    }
  },
  "cells": [
    {
      "cell_type": "markdown",
      "metadata": {
        "id": "view-in-github",
        "colab_type": "text"
      },
      "source": [
        "<a href=\"https://colab.research.google.com/github/mgodfrey1294/Numpy-Tutorial-Youtube/blob/main/Shaper.ipynb\" target=\"_parent\"><img src=\"https://colab.research.google.com/assets/colab-badge.svg\" alt=\"Open In Colab\"/></a>"
      ]
    },
    {
      "cell_type": "code",
      "source": [
        "import numpy as np"
      ],
      "metadata": {
        "id": "jxUx0TEsaNih"
      },
      "execution_count": 6,
      "outputs": []
    },
    {
      "cell_type": "code",
      "execution_count": 13,
      "metadata": {
        "colab": {
          "base_uri": "https://localhost:8080/"
        },
        "id": "jgw6_V5lZvgn",
        "outputId": "f10b7e9f-bd91-4716-b28b-1155598c78df"
      },
      "outputs": [
        {
          "output_type": "stream",
          "name": "stdout",
          "text": [
            "[ 1  2  3  4  5  6  7  8  9 10 11 12]\n",
            "(12,)\n"
          ]
        }
      ],
      "source": [
        "# Create 1-D Numpy Array and Get Shape\n",
        "np1 = np.array([1,2,3,4,5,6,7,8,9,10,11,12])\n",
        "print(np1)\n",
        "print(np1.shape)"
      ]
    },
    {
      "cell_type": "code",
      "source": [
        "# Create 2-D Array and get Shape, (rows/columns-elements)\n",
        "np2 = np.array([[1,2,3,4,5,6],[7,8,9,10,11,12]])\n",
        "print(np2)\n",
        "print(np2.shape)"
      ],
      "metadata": {
        "colab": {
          "base_uri": "https://localhost:8080/"
        },
        "id": "uuB4zs9kZ1LE",
        "outputId": "81d1d0c5-57a5-48d1-8eb3-b20eee894f21"
      },
      "execution_count": 15,
      "outputs": [
        {
          "output_type": "stream",
          "name": "stdout",
          "text": [
            "[[ 1  2  3  4  5  6]\n",
            " [ 7  8  9 10 11 12]]\n",
            "(2, 6)\n"
          ]
        }
      ]
    },
    {
      "cell_type": "code",
      "source": [
        "# Reshape 2-D\n",
        "np3 = np1.reshape(3,4)\n",
        "print(np3)\n",
        "print(np3.shape)"
      ],
      "metadata": {
        "colab": {
          "base_uri": "https://localhost:8080/"
        },
        "id": "4pzbKFx_Z-c6",
        "outputId": "ba6fd269-1ce3-43e9-f8fd-f9af255b50eb"
      },
      "execution_count": 16,
      "outputs": [
        {
          "output_type": "stream",
          "name": "stdout",
          "text": [
            "[[ 1  2  3  4]\n",
            " [ 5  6  7  8]\n",
            " [ 9 10 11 12]]\n",
            "(3, 4)\n"
          ]
        }
      ]
    },
    {
      "cell_type": "code",
      "source": [
        "# Reshape 3-D\n",
        "np4 = np1.reshape(2,3,2)\n",
        "print(np4)\n",
        "print(np4.shape)"
      ],
      "metadata": {
        "colab": {
          "base_uri": "https://localhost:8080/"
        },
        "id": "1ARVNDKJaAol",
        "outputId": "36c22116-0903-4c38-fc65-22caaaa56909"
      },
      "execution_count": 17,
      "outputs": [
        {
          "output_type": "stream",
          "name": "stdout",
          "text": [
            "[[[ 1  2]\n",
            "  [ 3  4]\n",
            "  [ 5  6]]\n",
            "\n",
            " [[ 7  8]\n",
            "  [ 9 10]\n",
            "  [11 12]]]\n",
            "(2, 3, 2)\n"
          ]
        }
      ]
    },
    {
      "cell_type": "code",
      "source": [
        "# Flatten to 1-D\n",
        "np5 = np4.reshape(-1)\n",
        "print(np5)\n",
        "print(np5.shape)"
      ],
      "metadata": {
        "colab": {
          "base_uri": "https://localhost:8080/"
        },
        "id": "wylN2eQRaDBu",
        "outputId": "483f0439-0d2a-4047-9951-d378104f3ef1"
      },
      "execution_count": 18,
      "outputs": [
        {
          "output_type": "stream",
          "name": "stdout",
          "text": [
            "[ 1  2  3  4  5  6  7  8  9 10 11 12]\n",
            "(12,)\n"
          ]
        }
      ]
    }
  ]
}